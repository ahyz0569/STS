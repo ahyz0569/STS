{
 "cells": [
  {
   "cell_type": "code",
   "execution_count": 1,
   "metadata": {},
   "outputs": [],
   "source": [
    "import pandas as pd\n",
    "import numpy as np\n",
    "import csv"
   ]
  },
  {
   "cell_type": "code",
   "execution_count": 2,
   "metadata": {},
   "outputs": [],
   "source": [
    "df=pd.read_csv(\"preprocessing_v1.csv\")"
   ]
  },
  {
   "cell_type": "code",
   "execution_count": 3,
   "metadata": {},
   "outputs": [
    {
     "data": {
      "text/plain": [
       "Index(['id', 'title', 'writer', 'viewers', 'size', 'time', 'level',\n",
       "       'ingredients', 'description', 'total_quantity', 'main', 'main_quantity',\n",
       "       'minor', 'minor_quantity', 'source', 'source_quantity', 'step0', 'img0',\n",
       "       'step1', 'img1', 'step2', 'img2', 'step3', 'img3', 'step4', 'img4',\n",
       "       'step5', 'img5', 'step6', 'img6', 'step7', 'img7', 'step8', 'img8',\n",
       "       'step9', 'img9', 'step10', 'img10', 'step11', 'img11', 'step12',\n",
       "       'img12', 'step13', 'img13', 'step14', 'img14', 'step15', 'img15',\n",
       "       'step16', 'img16', 'step17', 'img17', 'step18', 'img18', 'step19',\n",
       "       'img19', 'step20', 'img20', 'step21', 'img21', 'step22', 'img22',\n",
       "       'step23', 'img23', 'step24', 'img24', 'complete', 'main_db', 'minor_db',\n",
       "       'sauce_db', 'step', 'img', 'title_re'],\n",
       "      dtype='object')"
      ]
     },
     "execution_count": 3,
     "metadata": {},
     "output_type": "execute_result"
    }
   ],
   "source": [
    "df.columns"
   ]
  },
  {
   "cell_type": "code",
   "execution_count": 4,
   "metadata": {},
   "outputs": [],
   "source": [
    "df['ingre_main_oneline']=0"
   ]
  },
  {
   "cell_type": "code",
   "execution_count": 22,
   "metadata": {},
   "outputs": [
    {
     "name": "stderr",
     "output_type": "stream",
     "text": [
      "C:\\coding\\anaconda\\lib\\site-packages\\ipykernel_launcher.py:5: SettingWithCopyWarning: \n",
      "A value is trying to be set on a copy of a slice from a DataFrame\n",
      "\n",
      "See the caveats in the documentation: http://pandas.pydata.org/pandas-docs/stable/user_guide/indexing.html#returning-a-view-versus-a-copy\n",
      "  \"\"\"\n"
     ]
    }
   ],
   "source": [
    "for i in range(0,90778):\n",
    "    temp=[]\n",
    "    for j in df.loc[i][10].replace('\"','').replace('[','').replace(']','').replace(\"'\",'').split(', '):\n",
    "        temp.append(j)\n",
    "    df['ingre_main_oneline'][i] = temp"
   ]
  },
  {
   "cell_type": "code",
   "execution_count": 9,
   "metadata": {},
   "outputs": [
    {
     "data": {
      "text/plain": [
       "0                             [오리고기 3조각, 짜장라면 1개, 물 300ml]\n",
       "1                         [새송이버섯, 버터, 어린잎채소, 간장, 맛술, 올리고당]\n",
       "2                                   [새송이 버섯, 청양고추, 대파, 버터]\n",
       "3                                 [콩나물, 비엔나소시지, 대파, 양파, 믈]\n",
       "4                                   [차돌박이, 깻잎, 팽이버섯, 숙주나물]\n",
       "                               ...                        \n",
       "90773    [우유, 생크림, 설탕, 젤라틴 분말, 초코시럽, 딸기시럽, 럼주, 딸기시럽, 초코...\n",
       "90774    [오리훈제슬라이스, 쌈배추, 파프리카, 쌀뜨물, 사과, 양배추, 간장, 들깨가루, ...\n",
       "90775    [오징어, 콩나물, 양배추, 파, 마늘, 양파, 당근, 브로콜리, 파프리카, 밥, ...\n",
       "90776                       [바질페스토, 스파게티면, 양파, 채썬마늘, 닭가슴살]\n",
       "90777    [햄, 소시지, 가래떡, 양파, 고추장, 설탕, 간장, 김치, 파, 물, 조미료(다...\n",
       "Name: ingre_main_oneline, Length: 90778, dtype: object"
      ]
     },
     "execution_count": 9,
     "metadata": {},
     "output_type": "execute_result"
    }
   ],
   "source": [
    "df['ingre_main_oneline']"
   ]
  },
  {
   "cell_type": "code",
   "execution_count": 24,
   "metadata": {},
   "outputs": [
    {
     "name": "stderr",
     "output_type": "stream",
     "text": [
      "C:\\coding\\anaconda\\lib\\site-packages\\ipykernel_launcher.py:11: SettingWithCopyWarning: \n",
      "A value is trying to be set on a copy of a slice from a DataFrame\n",
      "\n",
      "See the caveats in the documentation: http://pandas.pydata.org/pandas-docs/stable/user_guide/indexing.html#returning-a-view-versus-a-copy\n",
      "  # This is added back by InteractiveShellApp.init_path()\n"
     ]
    }
   ],
   "source": [
    "for i in range(0,90778):\n",
    "    temp = ''\n",
    "    for j in range(0,len(df['ingre_main_oneline'][i])):\n",
    "        try:\n",
    "            if df['ingre_main_oneline'][i][j].split(' ')[1][0].isdecimal():\n",
    "                temp+=df['ingre_main_oneline'][i][j].split(' ')[0]+' '\n",
    "            else:\n",
    "                temp+=df['ingre_main_oneline'][i][j]+' '\n",
    "        except:\n",
    "            temp+=df['ingre_main_oneline'][i][j]+' '\n",
    "    df['ingre_main_oneline'][i]=temp"
   ]
  },
  {
   "cell_type": "code",
   "execution_count": 25,
   "metadata": {},
   "outputs": [
    {
     "data": {
      "text/plain": [
       "0                                             오리고기 짜장라면 물 \n",
       "1                               새송이버섯 버터 어린잎채소 간장 맛술 올리고당 \n",
       "2                                       새송이 버섯 청양고추 대파 버터 \n",
       "3                                      콩나물 비엔나소시지 대파 양파 믈 \n",
       "4                                       차돌박이 깻잎 팽이버섯 숙주나물 \n",
       "                               ...                        \n",
       "90773       우유 생크림 설탕 젤라틴 분말 초코시럽 딸기시럽 럼주 딸기시럽 초코시럽 물 젤라틴 \n",
       "90774    오리훈제슬라이스 쌈배추 파프리카 쌀뜨물 사과 양배추 간장 들깨가루 들기름 레몬즙 올...\n",
       "90775      오징어 콩나물 양배추 파 마늘 양파 당근 브로콜리 파프리카 밥 식용유 들기름 굴소소 \n",
       "90776                            바질페스토 스파게티면 양파 채썬마늘 닭가슴살 \n",
       "90777              햄 소시지 가래떡 양파 고추장 설탕 간장 김치 파 물 조미료(다시다) \n",
       "Name: ingre_main_oneline, Length: 90778, dtype: object"
      ]
     },
     "execution_count": 25,
     "metadata": {},
     "output_type": "execute_result"
    }
   ],
   "source": [
    "df['ingre_main_oneline']"
   ]
  },
  {
   "cell_type": "code",
   "execution_count": 26,
   "metadata": {},
   "outputs": [],
   "source": [
    "df.to_csv(\"preprocessing_v2.csv\", mode='w', index=False)"
   ]
  },
  {
   "cell_type": "code",
   "execution_count": 27,
   "metadata": {},
   "outputs": [
    {
     "data": {
      "text/plain": [
       "Index(['id', 'title', 'writer', 'viewers', 'size', 'time', 'level',\n",
       "       'ingredients', 'description', 'total_quantity', 'main', 'main_quantity',\n",
       "       'minor', 'minor_quantity', 'source', 'source_quantity', 'step0', 'img0',\n",
       "       'step1', 'img1', 'step2', 'img2', 'step3', 'img3', 'step4', 'img4',\n",
       "       'step5', 'img5', 'step6', 'img6', 'step7', 'img7', 'step8', 'img8',\n",
       "       'step9', 'img9', 'step10', 'img10', 'step11', 'img11', 'step12',\n",
       "       'img12', 'step13', 'img13', 'step14', 'img14', 'step15', 'img15',\n",
       "       'step16', 'img16', 'step17', 'img17', 'step18', 'img18', 'step19',\n",
       "       'img19', 'step20', 'img20', 'step21', 'img21', 'step22', 'img22',\n",
       "       'step23', 'img23', 'step24', 'img24', 'complete', 'main_db', 'minor_db',\n",
       "       'sauce_db', 'step', 'img', 'title_re', 'ingre_main_oneline'],\n",
       "      dtype='object')"
      ]
     },
     "execution_count": 27,
     "metadata": {},
     "output_type": "execute_result"
    }
   ],
   "source": [
    "df.columns"
   ]
  },
  {
   "cell_type": "code",
   "execution_count": 28,
   "metadata": {},
   "outputs": [],
   "source": [
    "dff=df[['id','title','size','time','level','main_db','minor_db','sauce_db','step','img','ingre_main_oneline']]"
   ]
  },
  {
   "cell_type": "code",
   "execution_count": 29,
   "metadata": {},
   "outputs": [],
   "source": [
    "dff.to_csv(\"db_v1.csv\", mode='w', index=False)"
   ]
  },
  {
   "cell_type": "code",
   "execution_count": null,
   "metadata": {},
   "outputs": [],
   "source": []
  },
  {
   "cell_type": "code",
   "execution_count": null,
   "metadata": {},
   "outputs": [],
   "source": []
  }
 ],
 "metadata": {
  "kernelspec": {
   "display_name": "Python 3",
   "language": "python",
   "name": "python3"
  },
  "language_info": {
   "codemirror_mode": {
    "name": "ipython",
    "version": 3
   },
   "file_extension": ".py",
   "mimetype": "text/x-python",
   "name": "python",
   "nbconvert_exporter": "python",
   "pygments_lexer": "ipython3",
   "version": "3.7.4"
  }
 },
 "nbformat": 4,
 "nbformat_minor": 2
}
